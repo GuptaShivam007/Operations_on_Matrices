{
  "nbformat": 4,
  "nbformat_minor": 0,
  "metadata": {
    "colab": {
      "provenance": [],
      "authorship_tag": "ABX9TyNj0348CnCvNhTcldwPquLS",
      "include_colab_link": true
    },
    "kernelspec": {
      "name": "python3",
      "display_name": "Python 3"
    },
    "language_info": {
      "name": "python"
    }
  },
  "cells": [
    {
      "cell_type": "markdown",
      "metadata": {
        "id": "view-in-github",
        "colab_type": "text"
      },
      "source": [
        "<a href=\"https://colab.research.google.com/github/GuptaShivam007/Operations_on_Matrices/blob/main/Operations_on_matrices.ipynb\" target=\"_parent\"><img src=\"https://colab.research.google.com/assets/colab-badge.svg\" alt=\"Open In Colab\"/></a>"
      ]
    },
    {
      "cell_type": "code",
      "execution_count": 1,
      "metadata": {
        "id": "vcZnc4JC9s3r"
      },
      "outputs": [],
      "source": [
        "import numpy as np\n"
      ]
    },
    {
      "cell_type": "markdown",
      "source": [
        "Adding two matrices"
      ],
      "metadata": {
        "id": "n796v8fN90Io"
      }
    },
    {
      "cell_type": "code",
      "source": [
        "a=np.array([[180,200,220],[24,36,40],[12,18,20]])\n",
        "b=np.array([[80,90,100],[10,16,20],[8,10,10]])\n"
      ],
      "metadata": {
        "id": "m4N7jQqc9yv4"
      },
      "execution_count": 2,
      "outputs": []
    },
    {
      "cell_type": "code",
      "source": [
        "c=a-b\n",
        "print(c)"
      ],
      "metadata": {
        "colab": {
          "base_uri": "https://localhost:8080/"
        },
        "id": "VjChfh1w-d4k",
        "outputId": "53bb3d4d-d822-4db4-8830-84835eace76b"
      },
      "execution_count": 4,
      "outputs": [
        {
          "output_type": "stream",
          "name": "stdout",
          "text": [
            "[[100 110 120]\n",
            " [ 14  20  20]\n",
            " [  4   8  10]]\n"
          ]
        }
      ]
    },
    {
      "cell_type": "markdown",
      "source": [
        "Matrices Broadcasting"
      ],
      "metadata": {
        "id": "lMH438jw-lD2"
      }
    },
    {
      "cell_type": "code",
      "source": [
        "A=np.array([1000,400,1200])\n",
        "B=np.array([[30,40,50],[5,10,15],[2,5,7]])"
      ],
      "metadata": {
        "id": "W07v0XHm-h-e"
      },
      "execution_count": 5,
      "outputs": []
    },
    {
      "cell_type": "code",
      "source": [
        "C=A*B\n",
        "print(C)"
      ],
      "metadata": {
        "colab": {
          "base_uri": "https://localhost:8080/"
        },
        "id": "kkWbUSjs-9V7",
        "outputId": "205da433-1145-45b7-958c-f1fd73e56cfb"
      },
      "execution_count": 7,
      "outputs": [
        {
          "output_type": "stream",
          "name": "stdout",
          "text": [
            "[[30000 16000 60000]\n",
            " [ 5000  4000 18000]\n",
            " [ 2000  2000  8400]]\n"
          ]
        }
      ]
    },
    {
      "cell_type": "markdown",
      "source": [
        "Multipling Two matrices"
      ],
      "metadata": {
        "id": "e4WWknC3_t1h"
      }
    },
    {
      "cell_type": "code",
      "source": [
        "np.dot(A,B)"
      ],
      "metadata": {
        "colab": {
          "base_uri": "https://localhost:8080/"
        },
        "id": "9iHhAR5J_BSL",
        "outputId": "0802c961-873c-4f1e-dac9-c46fbe844c90"
      },
      "execution_count": 8,
      "outputs": [
        {
          "output_type": "execute_result",
          "data": {
            "text/plain": [
              "array([34400, 50000, 64400])"
            ]
          },
          "metadata": {},
          "execution_count": 8
        }
      ]
    },
    {
      "cell_type": "markdown",
      "source": [
        "Multipling the matrix with the random number"
      ],
      "metadata": {
        "id": "MHdgLMPrAemZ"
      }
    },
    {
      "cell_type": "code",
      "source": [
        "d=np.array([[200,220,250],[68,79,105],[110,140,180],[80,85,90]])\n"
      ],
      "metadata": {
        "id": "-Flj9Cjk_0sF"
      },
      "execution_count": 9,
      "outputs": []
    },
    {
      "cell_type": "code",
      "source": [
        "75*d"
      ],
      "metadata": {
        "colab": {
          "base_uri": "https://localhost:8080/"
        },
        "id": "X6Q7jPgZAUsS",
        "outputId": "301875c0-e782-4fad-8b07-332cbb2350bb"
      },
      "execution_count": 10,
      "outputs": [
        {
          "output_type": "execute_result",
          "data": {
            "text/plain": [
              "array([[15000, 16500, 18750],\n",
              "       [ 5100,  5925,  7875],\n",
              "       [ 8250, 10500, 13500],\n",
              "       [ 6000,  6375,  6750]])"
            ]
          },
          "metadata": {},
          "execution_count": 10
        }
      ]
    },
    {
      "cell_type": "code",
      "source": [],
      "metadata": {
        "id": "w7bpQxU6AXTK"
      },
      "execution_count": null,
      "outputs": []
    }
  ]
}